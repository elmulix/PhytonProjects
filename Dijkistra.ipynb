{
 "cells": [
  {
   "cell_type": "markdown",
   "metadata": {},
   "source": [
    "# Dijkstra Algorithm\n",
    "Given a graph and a source vertex in the graph, find the shortest paths from the source to all vertices in the given graph. 9 vertices graph do not forget to start from 0 and finish at 8 this would be 9 vertices\n"
   ]
  },
  {
   "cell_type": "markdown",
   "metadata": {},
   "source": [
    "* MST Properties\n",
    "    - Graph is undirected\n",
    "\n",
    "    - MST is a TREE\n",
    "        + A tree is connected acyclic graph: it has no cycles (ie no closed paths)\n",
    "        + Number of edges in a tree: |V| - 1\n",
    "\n",
    "    - MST is a SPANNING Tree\n",
    "        + Nodes of MST = Nodes of G\n",
    "        + MST contains a path between any two nodes\n",
    "\n",
    "    - MST is a MINIMUM Spanning Tree\n",
    "        + Sum of edges is a minimum\n",
    "\n",
    "    - MST may not be unique"
   ]
  },
  {
   "cell_type": "markdown",
   "metadata": {},
   "source": [
    "Please measure the time to process for each algorithm and iterations.\n",
    "Graph them and check performance. "
   ]
  },
  {
   "cell_type": "markdown",
   "metadata": {},
   "source": [
    "Create a matrix with all vertices and their distances to feed the algorithm.\n",
    "9 x 9 matrix like this one.\n",
    "+ 0\t3\t0\t0\t0\t0\t0\t6\t0\n",
    "+ 3\t0\t7\t0\t0\t0\t0\t9\t0\n",
    "+ 0\t6\t0\t8\t0\t3\t0\t0\t1\n",
    "+ 0\t0\t5\t0\t8\t11\t0\t0\t0\n",
    "+ 0\t0\t0\t7\t0\t9\t0\t0\t0\n",
    "+ 0\t0\t3\t11\t7\t0\t1\t0\t0\n",
    "+ 0\t0\t0\t0\t0\t3\t0\t2\t7\n",
    "+ 6\t9\t0\t0\t0\t0\t2\t0\t6\n",
    "+ 0\t0\t1\t0\t0\t0\t5\t8\t0\n",
    "\n",
    "3 different matrices will be given to you in a csv format. They are called grafo1.csv, grafo2.csv and grafo3.csv.\n",
    "Load them into a 2D array and use it as an input.\n",
    "Please make a graphic showing the graph´s vertices and edges with the respective weights or distances. Use any graphic software you may like.\n",
    "I will attach one as an example.\n",
    "Remember to start from the vertex 0.\n",
    "\n"
   ]
  },
  {
   "cell_type": "markdown",
   "metadata": {},
   "source": [
    "The Output should look at least like this: \n",
    "\n",
    "+ Vertex   Distance from Source\n",
    "+ 0           1\n",
    "+ 1           3\n",
    "+ 2           5\n",
    "+ 3           0\n",
    "+ 4           8\n",
    "+ 5           10\n",
    "+ 6           5\n",
    "+ 7           13\n",
    "+ 8           6\n",
    "\n",
    "\n"
   ]
  },
  {
   "cell_type": "code",
   "execution_count": null,
   "metadata": {},
   "outputs": [],
   "source": [
    "# Write your code to calculate the shortest path\n"
   ]
  },
  {
   "cell_type": "markdown",
   "metadata": {},
   "source": [
    "# MST Prims Algorithm\n",
    "Based on the file prims_grafo_9_csv.csv create the MST using Prims Algorithm and draw the graph using any sofwware you may like.\n",
    "Upload the file into a matrix and feed it to the algorith to calculate the MST.\n",
    "The data in the CSV file has a 9 x 9 matrix describing a graph."
   ]
  },
  {
   "cell_type": "markdown",
   "metadata": {},
   "source": [
    "Print the output like this. Showing the vertices and the weight between them\n",
    "- Edge    Weight\n",
    "- 0 - 1    8\n",
    "- 5 - 2    3\n",
    "- 1 - 3    5\n",
    "- 5 - 4    7\n",
    "- 7 - 5    1\n",
    "- 3 - 6    4\n",
    "- 3 - 7    5\n",
    "- 6 - 8    3"
   ]
  },
  {
   "cell_type": "markdown",
   "metadata": {},
   "source": [
    "Do the same for the matrix Prims_grafo_matrix_csv.csv. This is an 8 x 8 graph. Draw the graph with any software of your choice.\n",
    "Make sure to print the matrix you´ve uploaded to verify."
   ]
  },
  {
   "cell_type": "markdown",
   "metadata": {},
   "source": [
    "Print the output like this. Showing the vertices and the weight between them\n",
    "- Edge    Weight\n",
    "+ 3 - 1    2\n",
    "+ 5 - 2    4\n",
    "+ 0 - 3    10\n",
    "+ 3 - 4    4\n",
    "+ 3 - 5    2\n",
    "+ 4 - 6    5\n",
    "+ 6 - 7    8"
   ]
  },
  {
   "cell_type": "code",
   "execution_count": null,
   "metadata": {},
   "outputs": [],
   "source": [
    "# Write Prims Algorthim code to find the MST"
   ]
  },
  {
   "cell_type": "markdown",
   "metadata": {},
   "source": []
  },
  {
   "cell_type": "markdown",
   "metadata": {},
   "source": [
    "# Prims Algorithm with Binary Heap\n",
    "Use the matrices in CSV format and sort them with Prims Algorithm and using Binary Heap and check the results. \n",
    "+ Prims_grafo_matrix_csv.csv\n",
    "+ prims_grafo_9_csv.csv\n",
    "+ Prims_grafo_matrix_heap.csv"
   ]
  },
  {
   "cell_type": "code",
   "execution_count": null,
   "metadata": {},
   "outputs": [],
   "source": [
    "# Write your code here"
   ]
  },
  {
   "cell_type": "markdown",
   "metadata": {},
   "source": [
    "Print the results in the following way.\n",
    "+ Source - Destination\n",
    "+ 3 -  1\n",
    "+ 5 -  2\n",
    "+ 0 -  3\n",
    "+ 3 -  4\n",
    "+ 3 -  5\n",
    "+ 4 -  6\n",
    "+ 6 -  7\n",
    "+ 7 -  8\n"
   ]
  }
 ],
 "metadata": {
  "language_info": {
   "name": "python"
  },
  "orig_nbformat": 4
 },
 "nbformat": 4,
 "nbformat_minor": 2
}
